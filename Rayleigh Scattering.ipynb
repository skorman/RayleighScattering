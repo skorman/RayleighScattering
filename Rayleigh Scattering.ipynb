{
 "cells": [
  {
   "cell_type": "code",
   "execution_count": 2,
   "metadata": {},
   "outputs": [],
   "source": [
    "import numpy as np\n",
    "import matplotlib.pyplot as plt "
   ]
  },
  {
   "cell_type": "code",
   "execution_count": 3,
   "metadata": {},
   "outputs": [
    {
     "name": "stdout",
     "output_type": "stream",
     "text": [
      "the speed of light is: 299863380.46612763\n"
     ]
    }
   ],
   "source": [
    "#constants of nature\n",
    "\n",
    "mu0 = 4 * np.pi * 1e-7\n",
    "e0 = 8.85e-12\n",
    "c = np.sqrt(1 / (mu0 * e0))\n",
    "print(\"the speed of light is:\", c)\n",
    "\n",
    "dt = 0.0005"
   ]
  },
  {
   "cell_type": "code",
   "execution_count": 9,
   "metadata": {},
   "outputs": [],
   "source": [
    "t0 = 0\n",
    "t1 = 40\n",
    "timesteps = np.arange(t0, t1, dt)"
   ]
  },
  {
   "cell_type": "code",
   "execution_count": 38,
   "metadata": {},
   "outputs": [],
   "source": [
    "E0 = 0.03\n",
    "omega = np.sqrt(2) \n",
    "\n",
    "external_force_arr = E0 * np.sin(omega * timesteps)\n",
    "    "
   ]
  },
  {
   "cell_type": "code",
   "execution_count": 36,
   "metadata": {},
   "outputs": [],
   "source": [
    "class Particle:\n",
    "    \n",
    "    def __init__(self, mass=1, charge=1, pos=np.array([0.0,0.0,0.0]), vel=np.array([0.0,0.0,0.0]), acc=np.array([0.0,0.0,0.0])):\n",
    "        self.mass = mass\n",
    "        self.charge = charge\n",
    "        self.pos = pos\n",
    "        self.vel = vel\n",
    "        self.acc = acc\n",
    "\n",
    "class Dipole:\n",
    "    \n",
    "    def __init__(self, timesteps, distance=1, charge=1):\n",
    "        self.distance = distance\n",
    "        self.charge = charge\n",
    "        self.mass = 1\n",
    "        self.particle1 = Particle(mass=self.mass, charge=self.charge, pos=np.array([-distance/3, 0,0]))\n",
    "        self.particle2 = Particle(mass=self.mass, charge=self.charge, pos=np.array([distance/2, 0,0]))\n",
    "        self.dipole_moment = self.charge * np.array([self.distance, 0, 0])\n",
    "        self.force = 0\n",
    "        self.timesteps = timesteps\n",
    "        self.pos1 = np.zeros(self.timesteps.shape)\n",
    "        self.pos2 = np.zeros(self.timesteps.shape)\n",
    "        self.k = 1\n",
    "        print(self.pos1.shape)\n",
    "        \n",
    "    def update(self, external_force):\n",
    "        r = self.particle2.pos - self.particle1.pos\n",
    "        \n",
    "        spring_force = self.k * (np.linalg.norm(r) - self.distance) * (r / np.linalg.norm(r))\n",
    "        force = spring_force + external_force * self.charge\n",
    "        \n",
    "        self.particle1.acc = force / self.particle1.mass\n",
    "        self.particle2.acc = -force / self.particle2.mass\n",
    "        self.particle1.vel = self.particle1.vel + self.particle1.acc * dt\n",
    "        self.particle2.vel = self.particle2.vel + self.particle2.acc * dt\n",
    "        \n",
    "        self.particle1.pos += self.particle1.vel * dt\n",
    "        self.particle2.pos += self.particle2.vel * dt\n",
    "        \n",
    "#         print(self.particle1.vel + self.particle1.acc * dt)\n",
    "\n",
    "#         print(self.particle1.pos)\n",
    "#         print(self.particle2.pos)\n",
    "        \n",
    "    def calc_trajectory(self):\n",
    "        \n",
    "        for i, time in enumerate(self.timesteps):\n",
    "            self.pos1[i] = self.particle1.pos[0]\n",
    "            self.pos2[i] = self.particle2.pos[0]\n",
    "            \n",
    "#             print(i)\n",
    "#             print(time)\n",
    "            \n",
    "            external_force = np.array([external_force_arr[i], 0, 0])\n",
    "            \n",
    "            self.update(external_force)\n",
    "            \n",
    "        return self.pos1, self.pos2\n",
    "        "
   ]
  },
  {
   "cell_type": "code",
   "execution_count": 37,
   "metadata": {},
   "outputs": [
    {
     "name": "stdout",
     "output_type": "stream",
     "text": [
      "(80000,)\n"
     ]
    },
    {
     "data": {
      "image/png": "[encoded data removed]",
      "text/plain": [
       "<Figure size 432x288 with 1 Axes>"
      ]
     },
     "metadata": {
      "needs_background": "light"
     },
     "output_type": "display_data"
    }
   ],
   "source": [
    "dipole = Dipole(timesteps)\n",
    "\n",
    "pos1, pos2 = dipole.calc_trajectory()\n",
    "# print(timesteps.shape)\n",
    "# print(pos1)\n",
    "\n",
    "plt.plot(timesteps, pos1, 'g')\n",
    "plt.plot(timesteps, pos2, 'r')\n",
    "plt.grid()\n"
   ]
  },
  {
   "cell_type": "code",
   "execution_count": 8,
   "metadata": {},
   "outputs": [
    {
     "name": "stdout",
     "output_type": "stream",
     "text": [
      "[1. 0. 0.]\n"
     ]
    }
   ],
   "source": [
    "x = np.array([5,0,0])\n",
    "r = np.linalg.norm(x)\n",
    "print(x / r)"
   ]
  }
 ],
 "metadata": {
  "kernelspec": {
   "display_name": "Python 3",
   "language": "python",
   "name": "python3"
  },
  "language_info": {
   "codemirror_mode": {
    "name": "ipython",
    "version": 3
   },
   "file_extension": ".py",
   "mimetype": "text/x-python",
   "name": "python",
   "nbconvert_exporter": "python",
   "pygments_lexer": "ipython3",
   "version": "3.7.4"
  }
 },
 "nbformat": 4,
 "nbformat_minor": 2
}
